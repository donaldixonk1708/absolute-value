{
  "nbformat": 4,
  "nbformat_minor": 0,
  "metadata": {
    "colab": {
      "provenance": [],
      "authorship_tag": "ABX9TyNHVYkhdUsBBe5NWgBSc8eL",
      "include_colab_link": true
    },
    "kernelspec": {
      "name": "python3",
      "display_name": "Python 3"
    },
    "language_info": {
      "name": "python"
    }
  },
  "cells": [
    {
      "cell_type": "markdown",
      "metadata": {
        "id": "view-in-github",
        "colab_type": "text"
      },
      "source": [
        "<a href=\"https://colab.research.google.com/github/donaldixonk1708/absolute-value/blob/main/Untitled6.ipynb\" target=\"_parent\"><img src=\"https://colab.research.google.com/assets/colab-badge.svg\" alt=\"Open In Colab\"/></a>"
      ]
    },
    {
      "cell_type": "code",
      "execution_count": null,
      "metadata": {
        "colab": {
          "base_uri": "https://localhost:8080/"
        },
        "id": "Nt8QGRn6inx6",
        "outputId": "a19b3db0-531f-46cb-8f7c-80feeac8a354"
      },
      "outputs": [
        {
          "output_type": "stream",
          "name": "stdout",
          "text": [
            "-10\n",
            "absolute value of - 10 is 10\n"
          ]
        }
      ],
      "source": [
        "num=int(input())\n",
        "if(num>0):\n",
        "  print(\"absolute value of\",num ,\"is\",num)\n",
        "else:\n",
        "  num=num*(-1)\n",
        "  print(\"absolute value of -\",num,\"is\",num)"
      ]
    },
    {
      "cell_type": "code",
      "source": [
        "x=int(input(\"Enter the number of classes held - \"))\n",
        "y=int(input(\"Number of classes attended - \"))\n",
        "if (y/x*100)<75:\n",
        "  print(\"Your attendance percentage is - \", y/x*100)\n",
        "  print(\"You are ineligible to appear for exams.\")\n",
        "else:\n",
        "  print(\"Your attendance percentage is - \", y/x*100)\n",
        "  print(\"You are eligible to appear for exams\")"
      ],
      "metadata": {
        "colab": {
          "base_uri": "https://localhost:8080/"
        },
        "id": "4GVAkVvimiNW",
        "outputId": "e65362ef-0d09-4b3d-db47-d5393255bfa3"
      },
      "execution_count": null,
      "outputs": [
        {
          "output_type": "stream",
          "name": "stdout",
          "text": [
            "Enter the number of classes held - 100\n",
            "Number of classes attended - 70\n",
            "Your attendance percentage is -  70.0\n",
            "You are ineligible to appear for exams.\n"
          ]
        }
      ]
    },
    {
      "cell_type": "code",
      "source": [
        "x=int(input(\"Number of classes held\"))\n",
        "y=int(input(\"Number of classes attended\"))\n",
        "z=y/x * 100\n",
        "if z>75 :\n",
        "  print(z, \"Student is allowed to sit the exams\")\n",
        "else :\n",
        "  print(z, \"Student is not allowed to sit the exam\")\n",
        "\n"
      ],
      "metadata": {
        "colab": {
          "base_uri": "https://localhost:8080/"
        },
        "id": "snRcUiybphQF",
        "outputId": "2631f5e8-7d49-4b1c-b7f3-a88d188179d8"
      },
      "execution_count": null,
      "outputs": [
        {
          "output_type": "stream",
          "name": "stdout",
          "text": [
            "Number of classes held100\n",
            "Number of classes attended80\n",
            "80.0 Student is allowed to sit the exams\n"
          ]
        }
      ]
    },
    {
      "cell_type": "code",
      "source": [
        "print(\"Basic Calculator - Enter Numbers 1-4 to choose operation: \")\n",
        "print(\"1.Add\")\n",
        "print(\"2.Substract\")\n",
        "print(\"3.Multiply\")\n",
        "print(\"4.Divide\")\n",
        "\n",
        "x=int(input(\"Enter Choice(1-4): \"))\n",
        "\n",
        "if x==1:\n",
        "    a=int(input(\"Enter First Number:\"))\n",
        "    b=int(input(\"Enter Second Number:\"))\n",
        "    c=a+b\n",
        "    print(\"Sum = \",c)\n",
        "elif x==2:\n",
        "    a=int(input(\"Enter First Number:\"))\n",
        "    b=int(input(\"Enter Second Number:\"))\n",
        "    c=a-b\n",
        "    print(\"Difference = \",c)\n",
        "elif  x==3:\n",
        "    a=int(input(\"Enter First Number:\"))\n",
        "    b=int(input(\"Enter Second Number:\"))\n",
        "    c=a*b\n",
        "    print(\"Product = \",c)\n",
        "elif x==4:\n",
        "    a=int(input(\"Enter First Number:\"))\n",
        "    b=int(input(\"Enter Second Number:\"))\n",
        "    c=a/b\n",
        "    print(\"Quotient = \",c)\n",
        "else:\n",
        "    print(\"Invalid\")"
      ],
      "metadata": {
        "id": "0RBkxKrQuFbx",
        "colab": {
          "base_uri": "https://localhost:8080/"
        },
        "outputId": "584ecf8a-68ff-4b99-fe11-88f67830db05"
      },
      "execution_count": 7,
      "outputs": [
        {
          "output_type": "stream",
          "name": "stdout",
          "text": [
            "Basic Calculator - Enter Numbers 1-4 to choose operation: \n",
            "1.Add\n",
            "2.Substract\n",
            "3.Multiply\n",
            "4.Divide\n",
            "Enter Choice(1-4): 3\n",
            "Enter First Number:7\n",
            "Enter Second Number:3\n",
            "Product =  21\n"
          ]
        }
      ]
    },
    {
      "cell_type": "code",
      "source": [],
      "metadata": {
        "id": "J7GqTAZkySbh"
      },
      "execution_count": 6,
      "outputs": []
    }
  ]
}